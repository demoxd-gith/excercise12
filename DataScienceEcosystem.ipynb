{
 "cells": [
  {
   "cell_type": "markdown",
   "id": "694c9b62-db7a-4125-9f44-081a7dba3f13",
   "metadata": {},
   "source": [
    "# My Data Science Notebook\n"
   ]
  },
  {
   "cell_type": "markdown",
   "id": "60777f36-67de-4c0e-81f3-0c1e8b195ed1",
   "metadata": {},
   "source": [
    "## Introduction\n",
    "\n",
    "Welcome to this data science notebook! In this notebook, we will explore various data analysis techniques, implement machine learning algorithms, and visualize data to uncover insights. The goal is to apply different tools and methods to real-world datasets and demonstrate how data science can drive decision-making.\n",
    "\n",
    "Throughout this notebook, you will find step-by-step explanations of the processes, along with code examples and visualizations to support the analysis.\n"
   ]
  },
  {
   "cell_type": "markdown",
   "id": "8032075e-011a-4096-bf13-3c5cee510b29",
   "metadata": {},
   "source": [
    "## Data Science Languages\n",
    "\n",
    "In data science, several programming languages are commonly used to analyze, manipulate, and visualize data. Some of the most popular languages include:\n",
    "\n",
    "- **Python**: Widely used for its simplicity and extensive libraries such as Pandas, NumPy, and Scikit-learn.\n",
    "- **R**: A language focused on statistical computing and graphics, with powerful libraries like ggplot2 and dplyr.\n",
    "- **SQL**: A language designed for managing and querying relational databases.\n",
    "- **Julia**: A high-performance language used for numerical and scientific computing.\n",
    "- **SAS**: A software suite used for advanced analytics, business intelligence, and data management.\n",
    "- **Scala**: Often used in big data processing, especially with frameworks like Apache Spark.\n"
   ]
  },
  {
   "cell_type": "markdown",
   "id": "8ddd3205-1b6a-4b80-8822-e3ad9f5449b2",
   "metadata": {},
   "source": [
    "## Data Science Languages\n",
    "\n",
    "In data science, several programming languages are commonly used to analyze, manipulate, and visualize data. Some of the most popular languages include:\n",
    "\n",
    "1. **Python**: Widely used for its simplicity and extensive libraries such as Pandas, NumPy, and Scikit-learn.\n",
    "2. **R**: A language focused on statistical computing and graphics, with powerful libraries like ggplot2 and dplyr.\n",
    "3. **SQL**: A language designed for managing and querying relational databases.\n",
    "4. **Julia**: A high-performance language used for numerical and scientific computing.\n",
    "5. **SAS**: A software suite used for advanced analytics, business intelligence, and data management.\n",
    "6. **Scala**: Often used in big data processing, especially with frameworks like Apache Spark.\n"
   ]
  },
  {
   "cell_type": "markdown",
   "id": "c4dd8e93-8f99-4c0a-ae14-73969f95e324",
   "metadata": {},
   "source": [
    "## Data Science Tools\n",
    "\n",
    "The following table lists some of the popular tools used in data science:\n",
    "\n",
    "| Tool           | Description                                           |\n",
    "|----------------|-------------------------------------------------------|\n",
    "| **Jupyter**    | An open-source tool for interactive coding and data visualization. |\n",
    "| **Python**     | A versatile programming language used for data analysis, visualization, and machine learning. |\n",
    "| **R**          | A language and environment for statistical computing and graphics. |\n",
    "| **Pandas**     | A Python library for data manipulation and analysis. |\n",
    "| **TensorFlow** | An open-source framework for machine learning and deep learning. |\n",
    "| **Scikit-learn** | A Python library for simple and efficient machine learning tools. |\n",
    "| **SQL**        | A language for managing and querying relational databases. |\n",
    "\n"
   ]
  },
  {
   "cell_type": "markdown",
   "id": "3cfb98f4-f645-4337-8ed1-a11856136f6f",
   "metadata": {},
   "source": [
    "## Arithmetic Expression Examples\n",
    "\n",
    "In this section, we will explore basic arithmetic expressions that are commonly used in programming and data analysis. These expressions involve operations such as addition, subtraction, multiplication, and division.\n",
    "\n",
    "Here are a few examples:\n",
    "\n",
    "- **Addition**: `5 + 3` results in `8`\n",
    "- **Subtraction**: `10 - 4` results in `6`\n",
    "- **Multiplication**: `7 * 2` results in `14`\n",
    "- **Division**: `20 / 4` results in `5`\n",
    "- **Exponentiation**: `2 ** 3` results in `8`\n",
    "- **Modulus**: `10 % 3` results in `1` (remainder of division)\n",
    "\n",
    "These operations are fundamental in most programming languages and are essential for performing mathematical calculations.\n"
   ]
  },
  {
   "cell_type": "code",
   "execution_count": 5,
   "id": "a993936d-071a-4303-94fd-1c9b79b0aecd",
   "metadata": {},
   "outputs": [
    {
     "data": {
      "text/plain": [
       "(15, 8)"
      ]
     },
     "execution_count": 5,
     "metadata": {},
     "output_type": "execute_result"
    }
   ],
   "source": [
    "# Define the numbers\n",
    "num1 = 5\n",
    "num2 = 3\n",
    "\n",
    "# Perform multiplication\n",
    "multiplication_result = num1 * num2\n",
    "\n",
    "# Perform addition\n",
    "addition_result = num1 + num2\n",
    "\n",
    "# Display the results\n",
    "multiplication_result, addition_result\n"
   ]
  },
  {
   "cell_type": "code",
   "execution_count": 6,
   "id": "897cce39-c0b7-44fd-a6c2-6f85ac254b2e",
   "metadata": {},
   "outputs": [
    {
     "data": {
      "text/plain": [
       "2.5"
      ]
     },
     "execution_count": 6,
     "metadata": {},
     "output_type": "execute_result"
    }
   ],
   "source": [
    "# Function to convert minutes to hours\n",
    "def minutes_to_hours(minutes):\n",
    "    hours = minutes / 60\n",
    "    return hours\n",
    "\n",
    "# Example usage\n",
    "minutes = 150\n",
    "hours = minutes_to_hours(minutes)\n",
    "\n",
    "hours\n",
    "\n"
   ]
  },
  {
   "cell_type": "markdown",
   "id": "bc953c2a-74eb-4232-b89b-51577c0c96fc",
   "metadata": {},
   "source": [
    "## Objectives\n",
    "\n",
    "The main objectives of this notebook are:\n",
    "\n",
    "- To understand basic arithmetic operations and their implementation in programming.\n",
    "- To explore common data science tools and languages.\n",
    "- To learn how to convert between different units, such as minutes to hours.\n",
    "- To implement simple functions and apply them to real-world examples.\n",
    "- To develop skills in working with Python for data analysis and problem-solving.\n"
   ]
  },
  {
   "cell_type": "markdown",
   "id": "527cb10c-3ea2-45a7-9733-554bc6407d95",
   "metadata": {},
   "source": [
    "## Author\n",
    "\n",
    "This notebook was created by:\n",
    "\n",
    "**[RAJ BORATE]**\n"
   ]
  },
  {
   "cell_type": "code",
   "execution_count": null,
   "id": "202d4f83-8751-4485-a1c5-a01450201ff4",
   "metadata": {},
   "outputs": [],
   "source": []
  }
 ],
 "metadata": {
  "kernelspec": {
   "display_name": "Python 3 (ipykernel)",
   "language": "python",
   "name": "python3"
  },
  "language_info": {
   "codemirror_mode": {
    "name": "ipython",
    "version": 3
   },
   "file_extension": ".py",
   "mimetype": "text/x-python",
   "name": "python",
   "nbconvert_exporter": "python",
   "pygments_lexer": "ipython3",
   "version": "3.12.8"
  }
 },
 "nbformat": 4,
 "nbformat_minor": 5
}
